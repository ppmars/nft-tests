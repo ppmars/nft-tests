{
 "cells": [
  {
   "cell_type": "code",
   "execution_count": 10,
   "metadata": {
    "collapsed": true
   },
   "outputs": [
    {
     "ename": "ContextualVersionConflict",
     "evalue": "(websockets 10.1 (/Users/gabrielruoff/PycharmProjects/nft-twint-tests/venv/lib/python3.8/site-packages), Requirement.parse('websockets<10,>=9.1'), {'web3'})",
     "output_type": "error",
     "traceback": [
      "\u001B[0;31m---------------------------------------------------------------------------\u001B[0m",
      "\u001B[0;31mContextualVersionConflict\u001B[0m                 Traceback (most recent call last)",
      "\u001B[0;32m/var/folders/fp/c1jtckp10gq4616z11b68nfw0000gn/T/ipykernel_84682/3622593622.py\u001B[0m in \u001B[0;36m<module>\u001B[0;34m\u001B[0m\n\u001B[0;32m----> 1\u001B[0;31m \u001B[0;32mfrom\u001B[0m \u001B[0mweb3\u001B[0m \u001B[0;32mimport\u001B[0m \u001B[0mWeb3\u001B[0m\u001B[0;34m\u001B[0m\u001B[0;34m\u001B[0m\u001B[0m\n\u001B[0m",
      "\u001B[0;32m~/PycharmProjects/nft-twint-tests/venv/lib/python3.8/site-packages/web3/__init__.py\u001B[0m in \u001B[0;36m<module>\u001B[0;34m\u001B[0m\n\u001B[1;32m     38\u001B[0m \u001B[0;34m\u001B[0m\u001B[0m\n\u001B[1;32m     39\u001B[0m \u001B[0;34m\u001B[0m\u001B[0m\n\u001B[0;32m---> 40\u001B[0;31m \u001B[0m__version__\u001B[0m \u001B[0;34m=\u001B[0m \u001B[0mpkg_resources\u001B[0m\u001B[0;34m.\u001B[0m\u001B[0mget_distribution\u001B[0m\u001B[0;34m(\u001B[0m\u001B[0;34m\"web3\"\u001B[0m\u001B[0;34m)\u001B[0m\u001B[0;34m.\u001B[0m\u001B[0mversion\u001B[0m\u001B[0;34m\u001B[0m\u001B[0;34m\u001B[0m\u001B[0m\n\u001B[0m\u001B[1;32m     41\u001B[0m \u001B[0;34m\u001B[0m\u001B[0m\n\u001B[1;32m     42\u001B[0m __all__ = [\n",
      "\u001B[0;32m~/PycharmProjects/nft-twint-tests/venv/lib/python3.8/site-packages/pkg_resources/__init__.py\u001B[0m in \u001B[0;36mget_distribution\u001B[0;34m(dist)\u001B[0m\n\u001B[1;32m    464\u001B[0m         \u001B[0mdist\u001B[0m \u001B[0;34m=\u001B[0m \u001B[0mRequirement\u001B[0m\u001B[0;34m.\u001B[0m\u001B[0mparse\u001B[0m\u001B[0;34m(\u001B[0m\u001B[0mdist\u001B[0m\u001B[0;34m)\u001B[0m\u001B[0;34m\u001B[0m\u001B[0;34m\u001B[0m\u001B[0m\n\u001B[1;32m    465\u001B[0m     \u001B[0;32mif\u001B[0m \u001B[0misinstance\u001B[0m\u001B[0;34m(\u001B[0m\u001B[0mdist\u001B[0m\u001B[0;34m,\u001B[0m \u001B[0mRequirement\u001B[0m\u001B[0;34m)\u001B[0m\u001B[0;34m:\u001B[0m\u001B[0;34m\u001B[0m\u001B[0;34m\u001B[0m\u001B[0m\n\u001B[0;32m--> 466\u001B[0;31m         \u001B[0mdist\u001B[0m \u001B[0;34m=\u001B[0m \u001B[0mget_provider\u001B[0m\u001B[0;34m(\u001B[0m\u001B[0mdist\u001B[0m\u001B[0;34m)\u001B[0m\u001B[0;34m\u001B[0m\u001B[0;34m\u001B[0m\u001B[0m\n\u001B[0m\u001B[1;32m    467\u001B[0m     \u001B[0;32mif\u001B[0m \u001B[0;32mnot\u001B[0m \u001B[0misinstance\u001B[0m\u001B[0;34m(\u001B[0m\u001B[0mdist\u001B[0m\u001B[0;34m,\u001B[0m \u001B[0mDistribution\u001B[0m\u001B[0;34m)\u001B[0m\u001B[0;34m:\u001B[0m\u001B[0;34m\u001B[0m\u001B[0;34m\u001B[0m\u001B[0m\n\u001B[1;32m    468\u001B[0m         \u001B[0;32mraise\u001B[0m \u001B[0mTypeError\u001B[0m\u001B[0;34m(\u001B[0m\u001B[0;34m\"Expected string, Requirement, or Distribution\"\u001B[0m\u001B[0;34m,\u001B[0m \u001B[0mdist\u001B[0m\u001B[0;34m)\u001B[0m\u001B[0;34m\u001B[0m\u001B[0;34m\u001B[0m\u001B[0m\n",
      "\u001B[0;32m~/PycharmProjects/nft-twint-tests/venv/lib/python3.8/site-packages/pkg_resources/__init__.py\u001B[0m in \u001B[0;36mget_provider\u001B[0;34m(moduleOrReq)\u001B[0m\n\u001B[1;32m    340\u001B[0m     \u001B[0;34m\"\"\"Return an IResourceProvider for the named module or requirement\"\"\"\u001B[0m\u001B[0;34m\u001B[0m\u001B[0;34m\u001B[0m\u001B[0m\n\u001B[1;32m    341\u001B[0m     \u001B[0;32mif\u001B[0m \u001B[0misinstance\u001B[0m\u001B[0;34m(\u001B[0m\u001B[0mmoduleOrReq\u001B[0m\u001B[0;34m,\u001B[0m \u001B[0mRequirement\u001B[0m\u001B[0;34m)\u001B[0m\u001B[0;34m:\u001B[0m\u001B[0;34m\u001B[0m\u001B[0;34m\u001B[0m\u001B[0m\n\u001B[0;32m--> 342\u001B[0;31m         \u001B[0;32mreturn\u001B[0m \u001B[0mworking_set\u001B[0m\u001B[0;34m.\u001B[0m\u001B[0mfind\u001B[0m\u001B[0;34m(\u001B[0m\u001B[0mmoduleOrReq\u001B[0m\u001B[0;34m)\u001B[0m \u001B[0;32mor\u001B[0m \u001B[0mrequire\u001B[0m\u001B[0;34m(\u001B[0m\u001B[0mstr\u001B[0m\u001B[0;34m(\u001B[0m\u001B[0mmoduleOrReq\u001B[0m\u001B[0;34m)\u001B[0m\u001B[0;34m)\u001B[0m\u001B[0;34m[\u001B[0m\u001B[0;36m0\u001B[0m\u001B[0;34m]\u001B[0m\u001B[0;34m\u001B[0m\u001B[0;34m\u001B[0m\u001B[0m\n\u001B[0m\u001B[1;32m    343\u001B[0m     \u001B[0;32mtry\u001B[0m\u001B[0;34m:\u001B[0m\u001B[0;34m\u001B[0m\u001B[0;34m\u001B[0m\u001B[0m\n\u001B[1;32m    344\u001B[0m         \u001B[0mmodule\u001B[0m \u001B[0;34m=\u001B[0m \u001B[0msys\u001B[0m\u001B[0;34m.\u001B[0m\u001B[0mmodules\u001B[0m\u001B[0;34m[\u001B[0m\u001B[0mmoduleOrReq\u001B[0m\u001B[0;34m]\u001B[0m\u001B[0;34m\u001B[0m\u001B[0;34m\u001B[0m\u001B[0m\n",
      "\u001B[0;32m~/PycharmProjects/nft-twint-tests/venv/lib/python3.8/site-packages/pkg_resources/__init__.py\u001B[0m in \u001B[0;36mrequire\u001B[0;34m(self, *requirements)\u001B[0m\n\u001B[1;32m    884\u001B[0m         \u001B[0mincluded\u001B[0m\u001B[0;34m,\u001B[0m \u001B[0meven\u001B[0m \u001B[0;32mif\u001B[0m \u001B[0mthey\u001B[0m \u001B[0mwere\u001B[0m \u001B[0malready\u001B[0m \u001B[0mactivated\u001B[0m \u001B[0;32min\u001B[0m \u001B[0mthis\u001B[0m \u001B[0mworking\u001B[0m \u001B[0mset\u001B[0m\u001B[0;34m.\u001B[0m\u001B[0;34m\u001B[0m\u001B[0;34m\u001B[0m\u001B[0m\n\u001B[1;32m    885\u001B[0m         \"\"\"\n\u001B[0;32m--> 886\u001B[0;31m         \u001B[0mneeded\u001B[0m \u001B[0;34m=\u001B[0m \u001B[0mself\u001B[0m\u001B[0;34m.\u001B[0m\u001B[0mresolve\u001B[0m\u001B[0;34m(\u001B[0m\u001B[0mparse_requirements\u001B[0m\u001B[0;34m(\u001B[0m\u001B[0mrequirements\u001B[0m\u001B[0;34m)\u001B[0m\u001B[0;34m)\u001B[0m\u001B[0;34m\u001B[0m\u001B[0;34m\u001B[0m\u001B[0m\n\u001B[0m\u001B[1;32m    887\u001B[0m \u001B[0;34m\u001B[0m\u001B[0m\n\u001B[1;32m    888\u001B[0m         \u001B[0;32mfor\u001B[0m \u001B[0mdist\u001B[0m \u001B[0;32min\u001B[0m \u001B[0mneeded\u001B[0m\u001B[0;34m:\u001B[0m\u001B[0;34m\u001B[0m\u001B[0;34m\u001B[0m\u001B[0m\n",
      "\u001B[0;32m~/PycharmProjects/nft-twint-tests/venv/lib/python3.8/site-packages/pkg_resources/__init__.py\u001B[0m in \u001B[0;36mresolve\u001B[0;34m(self, requirements, env, installer, replace_conflicting, extras)\u001B[0m\n\u001B[1;32m    775\u001B[0m                 \u001B[0;31m# Oops, the \"best\" so far conflicts with a dependency\u001B[0m\u001B[0;34m\u001B[0m\u001B[0;34m\u001B[0m\u001B[0;34m\u001B[0m\u001B[0m\n\u001B[1;32m    776\u001B[0m                 \u001B[0mdependent_req\u001B[0m \u001B[0;34m=\u001B[0m \u001B[0mrequired_by\u001B[0m\u001B[0;34m[\u001B[0m\u001B[0mreq\u001B[0m\u001B[0;34m]\u001B[0m\u001B[0;34m\u001B[0m\u001B[0;34m\u001B[0m\u001B[0m\n\u001B[0;32m--> 777\u001B[0;31m                 \u001B[0;32mraise\u001B[0m \u001B[0mVersionConflict\u001B[0m\u001B[0;34m(\u001B[0m\u001B[0mdist\u001B[0m\u001B[0;34m,\u001B[0m \u001B[0mreq\u001B[0m\u001B[0;34m)\u001B[0m\u001B[0;34m.\u001B[0m\u001B[0mwith_context\u001B[0m\u001B[0;34m(\u001B[0m\u001B[0mdependent_req\u001B[0m\u001B[0;34m)\u001B[0m\u001B[0;34m\u001B[0m\u001B[0;34m\u001B[0m\u001B[0m\n\u001B[0m\u001B[1;32m    778\u001B[0m \u001B[0;34m\u001B[0m\u001B[0m\n\u001B[1;32m    779\u001B[0m             \u001B[0;31m# push the new requirements onto the stack\u001B[0m\u001B[0;34m\u001B[0m\u001B[0;34m\u001B[0m\u001B[0;34m\u001B[0m\u001B[0m\n",
      "\u001B[0;31mContextualVersionConflict\u001B[0m: (websockets 10.1 (/Users/gabrielruoff/PycharmProjects/nft-twint-tests/venv/lib/python3.8/site-packages), Requirement.parse('websockets<10,>=9.1'), {'web3'})"
     ]
    }
   ],
   "source": [
    "from web3 import Web3"
   ]
  },
  {
   "cell_type": "code",
   "execution_count": null,
   "outputs": [],
   "source": [
    "ganache_url = '127.0.0.1:7545'\n",
    "web3 = Web3(Web3.HTTPProvider(ganache_url))"
   ],
   "metadata": {
    "collapsed": false,
    "pycharm": {
     "name": "#%%\n"
    }
   }
  },
  {
   "cell_type": "code",
   "execution_count": null,
   "outputs": [],
   "source": [
    "print(web3.isConnected())"
   ],
   "metadata": {
    "collapsed": false,
    "pycharm": {
     "name": "#%%\n"
    }
   }
  },
  {
   "cell_type": "code",
   "execution_count": null,
   "outputs": [],
   "source": [
    "transaction = contract.functions.set(\n",
    "    'string1',\n",
    "    'string2' ).buildTransaction({\n",
    "    'gas': 70000,\n",
    "    'gasPrice': web3.toWei('1', 'gwei'),\n",
    "    'from': adress,\n",
    "    'nonce': nonce\n",
    "    })\n",
    "private_key = \"enter_your_key_here\"\n",
    "signed_txn = web3.eth.account.signTransaction(transaction, private_key=private_key)\n",
    "web3.eth.sendRawTransaction(signed_txn.rawTransaction)"
   ],
   "metadata": {
    "collapsed": false,
    "pycharm": {
     "name": "#%%\n"
    }
   }
  }
 ],
 "metadata": {
  "kernelspec": {
   "display_name": "Python 3",
   "language": "python",
   "name": "python3"
  },
  "language_info": {
   "codemirror_mode": {
    "name": "ipython",
    "version": 2
   },
   "file_extension": ".py",
   "mimetype": "text/x-python",
   "name": "python",
   "nbconvert_exporter": "python",
   "pygments_lexer": "ipython2",
   "version": "2.7.6"
  }
 },
 "nbformat": 4,
 "nbformat_minor": 0
}