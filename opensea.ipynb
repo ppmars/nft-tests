{
 "cells": [
  {
   "cell_type": "code",
   "execution_count": 14,
   "outputs": [],
   "source": [
    "import requests\n",
    "import pandas as pd"
   ],
   "metadata": {
    "collapsed": false,
    "pycharm": {
     "name": "#%%\n"
    }
   }
  },
  {
   "cell_type": "code",
   "execution_count": 15,
   "outputs": [],
   "source": [
    "import matplotlib\n",
    "import matplotlib.pyplot as plt\n",
    "plt.style.use('ggplot')"
   ],
   "metadata": {
    "collapsed": false,
    "pycharm": {
     "name": "#%%\n"
    }
   }
  },
  {
   "cell_type": "code",
   "source": [
    "import requests\n",
    "\n",
    "url = \"https://api.opensea.io/api/v1/assets\"\n",
    "\n",
    "token_ids = []\n",
    "params = {\n",
    "    \"asset_contract_address\": \"0xBC4CA0EdA7647A8aB7C2061c2E118A18a936f13D\",\n",
    "    \"order_direction\": \"desc\",\n",
    "    \"offset\": 0,\n",
    "    \"limit\": 50\n",
    "}\n",
    "if token_ids:\n",
    "    params[\"token_ids\"] = str(token_ids),\n",
    "\n",
    "response = requests.request(\"GET\", url, params=params)\n",
    "\n",
    "print(response.text)"
   ],
   "metadata": {
    "collapsed": false,
    "pycharm": {
     "name": "#%%\n"
    }
   },
   "execution_count": null,
   "outputs": []
  },
  {
   "cell_type": "code",
   "execution_count": 46,
   "outputs": [
    {
     "name": "stdout",
     "output_type": "stream",
     "text": [
      "Invalid API key\n"
     ]
    }
   ],
   "source": [
    "url = \"https://api.opensea.io/api/v1/events\"\n",
    "\n",
    "params = {\n",
    "    \"asset_contract_address\": \"0xBC4CA0EdA7647A8aB7C2061c2E118A18a936f13D\",\n",
    "    \"event_type\": \"successful\",\n",
    "    \"only_opensea\": False,\n",
    "    \"offset\": 0,\n",
    "    \"limit\": 50\n",
    "}\n",
    "\n",
    "headers = {\n",
    "    \"Accept\": \"application/json\",\n",
    "    \"X-API-KEY\": \"5bec8ae0372044cab1bef0d866c98618\"\n",
    "}\n",
    "\n",
    "response = requests.request(\"GET\", url, headers=headers)\n",
    "\n",
    "print(response.text)"
   ],
   "metadata": {
    "collapsed": false,
    "pycharm": {
     "name": "#%%\n"
    }
   }
  }
 ],
 "metadata": {
  "kernelspec": {
   "display_name": "Python 3",
   "language": "python",
   "name": "python3"
  },
  "language_info": {
   "codemirror_mode": {
    "name": "ipython",
    "version": 2
   },
   "file_extension": ".py",
   "mimetype": "text/x-python",
   "name": "python",
   "nbconvert_exporter": "python",
   "pygments_lexer": "ipython2",
   "version": "2.7.6"
  }
 },
 "nbformat": 4,
 "nbformat_minor": 0
}