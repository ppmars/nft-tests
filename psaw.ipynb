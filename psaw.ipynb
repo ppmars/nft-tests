{
 "cells": [
  {
   "cell_type": "code",
   "execution_count": 65,
   "metadata": {
    "collapsed": true
   },
   "outputs": [],
   "source": [
    "import pandas as pd\n",
    "pd.set_option('max_colwidth', 500)\n",
    "pd.set_option('max_columns', 50)"
   ]
  },
  {
   "cell_type": "code",
   "execution_count": 66,
   "outputs": [],
   "source": [
    "import praw\n",
    "from psaw import PushshiftAPI\n",
    "# Initialize PushShift\n",
    "r = praw.Reddit(client_id=\"7dJ3eR8d0k2p6PKSTyOfyQ\",         # your client id\n",
    "                               client_secret=\"QMyh4i5iRQF8vcaljc4DXLmhcuMMGA\",      # your client secret\n",
    "                               user_agent=\"scraper\")\n",
    "api = PushshiftAPI(r)"
   ],
   "metadata": {
    "collapsed": false,
    "pycharm": {
     "name": "#%%\n"
    }
   }
  },
  {
   "cell_type": "code",
   "execution_count": 67,
   "outputs": [],
   "source": [
    "import datetime as dt\n",
    "start_epoch=int(dt.datetime(2021, 8, 20).timestamp())\n",
    "end_epoch=int(dt.datetime(2021, 12, 25).timestamp())\n",
    "\n",
    "results = list(api.search_comments(before=end_epoch, after=start_epoch,\n",
    "                            subreddit='nft',\n",
    "                            filter=['url','author', 'title', 'subreddit'],\n",
    "                            limit=100))"
   ],
   "metadata": {
    "collapsed": false,
    "pycharm": {
     "name": "#%%\n"
    }
   }
  },
  {
   "cell_type": "code",
   "execution_count": 68,
   "outputs": [
    {
     "name": "stdout",
     "output_type": "stream",
     "text": [
      "2021-12-24 23:59:43\n",
      "2021-12-24 23:59:29\n",
      "2021-12-24 23:58:53\n",
      "2021-12-24 23:58:45\n",
      "2021-12-24 23:58:40\n",
      "2021-12-24 23:58:28\n",
      "2021-12-24 23:58:20\n",
      "2021-12-24 23:57:19\n",
      "2021-12-24 23:53:33\n",
      "2021-12-24 23:52:48\n",
      "2021-12-24 23:52:17\n",
      "2021-12-24 23:51:25\n",
      "2021-12-24 23:50:01\n",
      "2021-12-24 23:48:01\n",
      "2021-12-24 23:47:38\n",
      "2021-12-24 23:45:38\n",
      "2021-12-24 23:45:07\n",
      "2021-12-24 23:44:56\n",
      "2021-12-24 23:44:39\n",
      "2021-12-24 23:42:56\n",
      "2021-12-24 23:42:28\n",
      "2021-12-24 23:41:51\n",
      "2021-12-24 23:41:47\n",
      "2021-12-24 23:40:25\n",
      "2021-12-24 23:37:47\n",
      "2021-12-24 23:37:22\n",
      "2021-12-24 23:35:03\n",
      "2021-12-24 23:33:31\n",
      "2021-12-24 23:33:14\n",
      "2021-12-24 23:32:00\n",
      "2021-12-24 23:31:09\n",
      "2021-12-24 23:28:42\n",
      "2021-12-24 23:27:59\n",
      "2021-12-24 23:27:06\n",
      "2021-12-24 23:26:14\n",
      "2021-12-24 23:21:21\n",
      "2021-12-24 23:21:12\n",
      "2021-12-24 23:20:51\n",
      "2021-12-24 23:20:39\n",
      "2021-12-24 23:20:12\n",
      "2021-12-24 23:20:03\n",
      "2021-12-24 23:19:49\n",
      "2021-12-24 23:19:35\n",
      "2021-12-24 23:19:29\n",
      "2021-12-24 23:17:27\n",
      "2021-12-24 23:15:11\n",
      "2021-12-24 23:14:38\n",
      "2021-12-24 23:14:29\n",
      "2021-12-24 23:12:45\n",
      "2021-12-24 23:12:42\n",
      "2021-12-24 23:12:24\n",
      "2021-12-24 23:12:08\n",
      "2021-12-24 23:10:16\n",
      "2021-12-24 23:07:08\n",
      "2021-12-24 23:06:51\n",
      "2021-12-24 23:05:38\n",
      "2021-12-24 23:03:49\n",
      "2021-12-24 23:03:21\n",
      "2021-12-24 23:03:00\n",
      "2021-12-24 23:02:51\n",
      "2021-12-24 23:02:49\n",
      "2021-12-24 23:02:32\n",
      "2021-12-24 23:02:08\n",
      "2021-12-24 22:57:25\n",
      "2021-12-24 22:57:12\n",
      "2021-12-24 22:56:08\n",
      "2021-12-24 22:52:53\n",
      "2021-12-24 22:51:28\n",
      "2021-12-24 22:48:22\n",
      "2021-12-24 22:48:18\n",
      "2021-12-24 22:47:22\n",
      "2021-12-24 22:46:56\n",
      "2021-12-24 22:46:39\n",
      "2021-12-24 22:46:25\n",
      "2021-12-24 22:46:10\n",
      "2021-12-24 22:43:33\n",
      "2021-12-24 22:42:26\n",
      "2021-12-24 22:41:56\n",
      "2021-12-24 22:41:53\n",
      "2021-12-24 22:41:48\n",
      "2021-12-24 22:41:20\n",
      "2021-12-24 22:35:42\n",
      "2021-12-24 22:35:09\n",
      "2021-12-24 22:34:55\n",
      "2021-12-24 22:34:24\n",
      "2021-12-24 22:34:12\n",
      "2021-12-24 22:33:25\n",
      "2021-12-24 22:33:16\n",
      "2021-12-24 22:32:46\n",
      "2021-12-24 22:32:45\n",
      "2021-12-24 22:32:29\n",
      "2021-12-24 22:32:03\n",
      "2021-12-24 22:31:03\n",
      "2021-12-24 22:30:42\n",
      "2021-12-24 22:30:03\n",
      "2021-12-24 22:27:54\n",
      "2021-12-24 22:27:41\n",
      "2021-12-24 22:26:43\n",
      "2021-12-24 22:25:58\n",
      "2021-12-24 22:25:30\n",
      "100 submissions\n"
     ]
    }
   ],
   "source": [
    "for submission in results:\n",
    "    print(dt.datetime.fromtimestamp(submission.created))\n",
    "    # if submission.selftext:\n",
    "        # print(submission.selftext)\n",
    "print('{} submissions'.format(len(results)))"
   ],
   "metadata": {
    "collapsed": false,
    "pycharm": {
     "name": "#%%\n"
    }
   }
  }
 ],
 "metadata": {
  "kernelspec": {
   "display_name": "Python 3",
   "language": "python",
   "name": "python3"
  },
  "language_info": {
   "codemirror_mode": {
    "name": "ipython",
    "version": 2
   },
   "file_extension": ".py",
   "mimetype": "text/x-python",
   "name": "python",
   "nbconvert_exporter": "python",
   "pygments_lexer": "ipython2",
   "version": "2.7.6"
  }
 },
 "nbformat": 4,
 "nbformat_minor": 0
}